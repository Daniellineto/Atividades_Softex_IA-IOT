{
  "cells": [
    {
      "cell_type": "markdown",
      "metadata": {
        "id": "view-in-github",
        "colab_type": "text"
      },
      "source": [
        "<a href=\"https://colab.research.google.com/github/Daniellineto/Atividades_Softex_IA-IOT/blob/main/IOT/ATV_5/Atividade_05.ipynb\" target=\"_parent\"><img src=\"https://colab.research.google.com/assets/colab-badge.svg\" alt=\"Open In Colab\"/></a>"
      ]
    },
    {
      "cell_type": "code",
      "execution_count": null,
      "metadata": {
        "colab": {
          "base_uri": "https://localhost:8080/"
        },
        "id": "96Fdco41ni6t",
        "outputId": "5c374601-bec0-4619-8a6a-bb83db37d3ae"
      },
      "outputs": [
        {
          "output_type": "stream",
          "name": "stdout",
          "text": [
            "Requirement already satisfied: paho-mqtt in /usr/local/lib/python3.11/dist-packages (2.1.0)\n"
          ]
        }
      ],
      "source": [
        "!pip install paho-mqtt"
      ]
    },
    {
      "cell_type": "code",
      "execution_count": null,
      "metadata": {
        "colab": {
          "base_uri": "https://localhost:8080/"
        },
        "id": "914AX7tsnkSP",
        "outputId": "5ae4e50e-805b-4388-82f8-060f0a8f2406"
      },
      "outputs": [
        {
          "output_type": "stream",
          "name": "stderr",
          "text": [
            "<ipython-input-9-ae0bb3529841>:9: DeprecationWarning: Callback API version 1 is deprecated, update to latest version\n",
            "  client = mqtt.Client()\n"
          ]
        },
        {
          "output_type": "stream",
          "name": "stdout",
          "text": [
            "topic/distancia: 4.06\n",
            "topic/distancia: 4.06\n",
            "topic/distancia: 4.06\n",
            "topic/distancia: 4.06\n",
            "topic/distancia: 4.06\n",
            "topic/distancia: 4.06\n",
            "topic/distancia: 4.06\n",
            "topic/distancia: 4.06\n",
            "topic/distancia: 4.06\n",
            "topic/distancia: 4.06\n",
            "topic/distancia: 4.06\n",
            "topic/distancia: 4.06\n",
            "topic/distancia: 4.06\n",
            "topic/distancia: 4.06\n",
            "topic/distancia: 4.06\n",
            "topic/distancia: 4.06\n",
            "topic/distancia: 0.02\n",
            "topic/distancia: 0.02\n",
            "topic/distancia: 0.02\n",
            "topic/distancia: 0.02\n",
            "topic/distancia: 2.19\n",
            "topic/distancia: 2.19\n",
            "topic/distancia: 2.19\n",
            "topic/distancia: 2.19\n"
          ]
        },
        {
          "output_type": "execute_result",
          "data": {
            "text/plain": [
              "<MQTTErrorCode.MQTT_ERR_SUCCESS: 0>"
            ]
          },
          "metadata": {},
          "execution_count": 9
        }
      ],
      "source": [
        "import time\n",
        "import paho.mqtt.client as mqtt\n",
        "\n",
        "# Função chamada quando uma mensagem é recebida\n",
        "def on_message(client, userdata, msg):\n",
        "    print(f\"{msg.topic}: {msg.payload.decode()}\")\n",
        "\n",
        "# Cria o cliente MQTT\n",
        "client = mqtt.Client()\n",
        "client.on_message = on_message\n",
        "\n",
        "# Conecta ao broker MQTT público\n",
        "client.connect(\"test.mosquitto.org\", 1883, 60)\n",
        "\n",
        "# Inscreve no tópico\n",
        "client.subscribe(\"topic/distancia\")\n",
        "\n",
        "# Inicia o loop do cliente MQTT\n",
        "client.loop_start()\n",
        "\n",
        "# Aguarda por 60 segundos recebendo mensagens\n",
        "time.sleep(60)\n",
        "\n",
        "# Para o loop\n",
        "client.loop_stop()"
      ]
    }
  ],
  "metadata": {
    "colab": {
      "provenance": [],
      "include_colab_link": true
    },
    "kernelspec": {
      "display_name": "Python 3",
      "name": "python3"
    },
    "language_info": {
      "name": "python"
    }
  },
  "nbformat": 4,
  "nbformat_minor": 0
}