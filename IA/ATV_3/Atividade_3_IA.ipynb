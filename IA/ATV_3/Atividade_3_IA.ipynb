{
  "nbformat": 4,
  "nbformat_minor": 0,
  "metadata": {
    "colab": {
      "provenance": [],
      "include_colab_link": true
    },
    "kernelspec": {
      "name": "python3",
      "display_name": "Python 3"
    },
    "language_info": {
      "name": "python"
    }
  },
  "cells": [
    {
      "cell_type": "markdown",
      "metadata": {
        "id": "view-in-github",
        "colab_type": "text"
      },
      "source": [
        "<a href=\"https://colab.research.google.com/github/Daniellineto/Atividades_Softex_IA-IOT/blob/main/IA/ATV_3/Atividade_3_IA.ipynb\" target=\"_parent\"><img src=\"https://colab.research.google.com/assets/colab-badge.svg\" alt=\"Open In Colab\"/></a>"
      ]
    },
    {
      "cell_type": "markdown",
      "source": [
        "# **Atividade 03 IA - Perceptron**\n",
        "Aluno: Daniel Lima Neto"
      ],
      "metadata": {
        "id": "YRxa8Oq5Tobm"
      }
    },
    {
      "cell_type": "markdown",
      "source": [
        "### Perceptron"
      ],
      "metadata": {
        "id": "xjDzeXKjaqDW"
      }
    },
    {
      "cell_type": "code",
      "source": [
        "import numpy as np\n",
        "class Perceptron:\n",
        "\n",
        "  def __init__(self, teta, w, n, epochs):\n",
        "\n",
        "    self.teta = teta\n",
        "    self.w = w\n",
        "    self.n = n\n",
        "    self.epochs = epochs\n",
        "\n",
        "  def train_perceptron(self,train_x,train_y):\n",
        "\n",
        "    for i in range(self.epochs):\n",
        "      for j in range(len(train_x)):\n",
        "\n",
        "        u = sum(np.array(self.w) * np.array(train_x[j])) - self.teta # Função de Ativação\n",
        "\n",
        "        y = 1 if u >= 0 else 0 # Função de Saída\n",
        "\n",
        "        erro = train_y[j] - y\n",
        "\n",
        "        self.w = list(np.array(self.w) + (self.n * np.array(train_x[j]) * erro))\n",
        "\n",
        "        self.teta = self.teta + (self.n * -1 * erro)\n",
        "\n",
        "  def predict_perceptron(self,test_x):\n",
        "\n",
        "    results = []\n",
        "\n",
        "    for i in range(len(test_x)):\n",
        "\n",
        "        u = sum(np.array(self.w) * np.array(test_x[i])) - self.teta\n",
        "\n",
        "        r = 1 if u >= 0 else 0\n",
        "        results.append(r)\n",
        "\n",
        "    return results"
      ],
      "metadata": {
        "id": "ZdAbFOMDams4"
      },
      "execution_count": null,
      "outputs": []
    },
    {
      "cell_type": "markdown",
      "source": [
        "### Perceptron para resolver o AND e o OR"
      ],
      "metadata": {
        "id": "rJlVbBLwaRcs"
      }
    },
    {
      "cell_type": "code",
      "execution_count": null,
      "metadata": {
        "id": "_8llK0U5aF6C"
      },
      "outputs": [],
      "source": [
        "############ AND\n",
        "\n",
        "x = np.array([[0, 0], [0, 1], [1, 0], [1, 1]])\n",
        "y = np.array([0, 0, 0, 1])\n",
        "\n",
        "############ OR"
      ]
    },
    {
      "cell_type": "markdown",
      "source": [
        "# 1) Inicializar os parâmetros do Perceptron (de forma aleatória ou com 0 (zero))"
      ],
      "metadata": {
        "id": "bGfujikeQfwF"
      }
    },
    {
      "cell_type": "code",
      "source": [
        "# Parâmetros do Perceptron\n",
        "teta = 0\n",
        "w = [0, 0]\n",
        "n = 0.1\n",
        "epochs = 10"
      ],
      "metadata": {
        "id": "ULXllsowbaZu"
      },
      "execution_count": null,
      "outputs": []
    },
    {
      "cell_type": "markdown",
      "source": [
        "# 2) Treinar o AND e depois fazer o predict com a matriz x\n"
      ],
      "metadata": {
        "id": "nNqvhGTGQgZK"
      }
    },
    {
      "cell_type": "code",
      "source": [
        "# Dados de entrada e saída para a porta AND\n",
        "x = np.array([[0, 0], [0, 1], [1, 0], [1, 1]])\n",
        "y_and = np.array([0, 0, 0, 1])\n",
        "\n",
        "# Criar e treinar o perceptron\n",
        "p_and = Perceptron(teta=0, w=[0, 0], n=0.1, epochs=10)\n",
        "p_and.train_perceptron(x, y_and)\n",
        "\n",
        "# Predição\n",
        "result_and = p_and.predict_perceptron(x)\n",
        "\n",
        "print(\"Saída prevista para AND:\", result_and)"
      ],
      "metadata": {
        "id": "X6juKzOEO40J",
        "colab": {
          "base_uri": "https://localhost:8080/"
        },
        "outputId": "f0125e19-9e41-4c25-8c8c-7d736f3742c1"
      },
      "execution_count": null,
      "outputs": [
        {
          "output_type": "stream",
          "name": "stdout",
          "text": [
            "Saída prevista para AND: [0, 0, 0, 1]\n"
          ]
        }
      ]
    },
    {
      "cell_type": "markdown",
      "source": [
        "# 3) Treinar o OR e depois fazer o predict com a matriz x"
      ],
      "metadata": {
        "id": "0CqjsaDsQg4m"
      }
    },
    {
      "cell_type": "code",
      "source": [
        "# Dados de saída para a porta OR\n",
        "y_or = np.array([0, 1, 1, 1])\n",
        "\n",
        "# Criar e treinar o perceptron\n",
        "p_or = Perceptron(teta=0, w=[0, 0], n=0.1, epochs=10)\n",
        "p_or.train_perceptron(x, y_or)\n",
        "\n",
        "# Predição\n",
        "result_or = p_or.predict_perceptron(x)\n",
        "\n",
        "print(\"Saída prevista para OR:\", result_or)"
      ],
      "metadata": {
        "id": "vms20ni3O47t",
        "colab": {
          "base_uri": "https://localhost:8080/"
        },
        "outputId": "1e41d8b8-7b26-4b86-ce84-960b9c3490eb"
      },
      "execution_count": null,
      "outputs": [
        {
          "output_type": "stream",
          "name": "stdout",
          "text": [
            "Saída prevista para OR: [0, 1, 1, 1]\n"
          ]
        }
      ]
    },
    {
      "cell_type": "markdown",
      "source": [
        "### Base de Classificação Sintética"
      ],
      "metadata": {
        "id": "pCZqZg8BeoSa"
      }
    },
    {
      "cell_type": "code",
      "source": [
        "# Função para plotar o dataset com o perceptron\n",
        "\n",
        "def plot_linear_classifier(x, y, w, teta):\n",
        "    x1_min, x1_max = x[:,0].min(), x[:,0].max()\n",
        "    x2_min, x2_max = x[:,1].min(), x[:,1].max()\n",
        "\n",
        "    x1, x2 = np.meshgrid(np.linspace(x1_min-1, x1_max+1,100), np.linspace(x2_min-1, x2_max+1, 100))\n",
        "    x_mesh = np.array([x1.ravel(), x2.ravel()]).T\n",
        "\n",
        "    plt.scatter(x[:,0], x[:,1], c=y.ravel(), cmap='bwr')\n",
        "\n",
        "    y_mesh = np.dot(x_mesh, np.array(w).reshape(1, -1).T) + teta\n",
        "    y_mesh = np.where(y_mesh <= 0, 0, 1)\n",
        "\n",
        "    plt.contourf(x1, x2, y_mesh.reshape(x1.shape), cmap='bwr', alpha=0.5)\n",
        "    plt.xlim(x1_min-1, x1_max+1)\n",
        "    plt.ylim(x2_min-1, x2_max+1)"
      ],
      "metadata": {
        "id": "MYzy5jeKfFAj"
      },
      "execution_count": null,
      "outputs": []
    },
    {
      "cell_type": "code",
      "source": [
        "import matplotlib.pyplot as plt\n",
        "from sklearn.datasets import make_blobs\n",
        "\n",
        "x, y = make_blobs(n_samples=100, n_features=2, centers=2, random_state=1234) # Gerar dataset com 2 clusters"
      ],
      "metadata": {
        "id": "DQ9XncebewoF"
      },
      "execution_count": null,
      "outputs": []
    },
    {
      "cell_type": "markdown",
      "source": [
        "# 4) Inicializar os parâmetros do Perceptron (de forma aleatória ou com 0 (zero)"
      ],
      "metadata": {
        "id": "cm7V6xapQRnB"
      }
    },
    {
      "cell_type": "code",
      "source": [
        "# Parâmetros do Perceptron\n",
        "teta = 0\n",
        "w = [0, 0]\n",
        "n = 0.1\n",
        "epochs = 10"
      ],
      "metadata": {
        "id": "CuKt-Gg8PQSZ"
      },
      "execution_count": null,
      "outputs": []
    },
    {
      "cell_type": "markdown",
      "source": [
        "# 5) Treinar o Perceptron"
      ],
      "metadata": {
        "id": "Rz0frtleQX7B"
      }
    },
    {
      "cell_type": "code",
      "source": [
        "# Criar e treinar o perceptron com o dataset\n",
        "p_blob = Perceptron(teta=teta, w=w, n=n, epochs=epochs)\n",
        "p_blob.train_perceptron(x, y)"
      ],
      "metadata": {
        "id": "7_Xeqn2TPQbh"
      },
      "execution_count": null,
      "outputs": []
    },
    {
      "cell_type": "markdown",
      "source": [
        "# 6) Plotar o dataset com os parâmetros do Perceptron usando a função \"plot_linear_classifier\"\n"
      ],
      "metadata": {
        "id": "5l9spjB6QaiV"
      }
    },
    {
      "cell_type": "code",
      "source": [
        "# Importar biblioteca de plotagem\n",
        "import matplotlib.pyplot as plt\n",
        "\n",
        "# Plotar o classificador linear\n",
        "plot_linear_classifier(x, y, p_blob.w, p_blob.teta)\n",
        "plt.title(\"Classificação Linear com Perceptron\")\n",
        "plt.xlabel(\"x1\")\n",
        "plt.ylabel(\"x2\")\n",
        "plt.show()\n"
      ],
      "metadata": {
        "id": "ZLODFBD4PQkA",
        "colab": {
          "base_uri": "https://localhost:8080/",
          "height": 472
        },
        "outputId": "c0cc12d6-320d-4e9b-8097-bb9c81555b0d"
      },
      "execution_count": null,
      "outputs": [
        {
          "output_type": "display_data",
          "data": {
            "text/plain": [
              "<Figure size 640x480 with 1 Axes>"
            ],
            "image/png": "[encoded data removed]"
          },
          "metadata": {}
        }
      ]
    },
    {
      "cell_type": "code",
      "source": [
        "from sklearn import metrics"
      ],
      "metadata": {
        "id": "ruhqoJ_0lDZn"
      },
      "execution_count": null,
      "outputs": []
    },
    {
      "cell_type": "markdown",
      "source": [
        "\n",
        "## 7) Fazer o predict do Perceptron usando a matriz x"
      ],
      "metadata": {
        "id": "6JuKLc7yQ996"
      }
    },
    {
      "cell_type": "code",
      "source": [
        "# Predição com o perceptron treinado\n",
        "y_pred = p_blob.predict_perceptron(x)"
      ],
      "metadata": {
        "id": "f6u1TSg8Q-DH"
      },
      "execution_count": null,
      "outputs": []
    },
    {
      "cell_type": "markdown",
      "source": [
        "## 8) Calcular a acurácia com a função: \"accuracy_score\" e printar o resultado"
      ],
      "metadata": {
        "id": "K6PLEVGLQ-Ko"
      }
    },
    {
      "cell_type": "code",
      "source": [
        "from sklearn.metrics import accuracy_score\n",
        "\n",
        "# Calcular e exibir a acurácia\n",
        "acc = accuracy_score(y, y_pred)\n",
        "print(f\"Acurácia do Perceptron: {acc:.2f}\")"
      ],
      "metadata": {
        "id": "AOpKXWQBQ-Og",
        "colab": {
          "base_uri": "https://localhost:8080/"
        },
        "outputId": "49e7382e-6579-4168-84ab-a99ca079bdcc"
      },
      "execution_count": null,
      "outputs": [
        {
          "output_type": "stream",
          "name": "stdout",
          "text": [
            "Acurácia do Perceptron: 1.00\n"
          ]
        }
      ]
    },
    {
      "cell_type": "markdown",
      "source": [
        "### Dataset Sintético"
      ],
      "metadata": {
        "id": "EHcAJSG96fME"
      }
    },
    {
      "cell_type": "code",
      "source": [
        "import pandas as pd\n",
        "\n",
        "df = pd.DataFrame(columns=('x1', 'x2'), data=np.random.uniform(size=(600,2)))\n",
        "\n",
        "# Plotar o Dataset Sintético\n",
        "fig = plt.figure(figsize=(10,10))\n",
        "ax = fig.gca()\n",
        "\n",
        "def testing(inputs):\n",
        "    answer = int(np.sum(inputs) > 1)\n",
        "    return answer\n",
        "\n",
        "df['y'] = df.apply(testing, axis=1)\n",
        "\n",
        "df[df.y==1].plot(kind='scatter', ax=ax, x='x1', y='x2', color='blue')\n",
        "df[df.y==0].plot(kind='scatter', ax=ax, x='x1', y='x2', color='red')\n",
        "plt.grid()\n",
        "plt.title('Dataset')\n",
        "ax.set_xlim(-0.1,1.1)\n",
        "ax.set_ylim(-0.1,1.1)"
      ],
      "metadata": {
        "id": "RMXiSvoM6jTc",
        "colab": {
          "base_uri": "https://localhost:8080/",
          "height": 889
        },
        "outputId": "4ba1381f-c587-4abd-b0aa-1d819d258ee5"
      },
      "execution_count": null,
      "outputs": [
        {
          "output_type": "execute_result",
          "data": {
            "text/plain": [
              "(-0.1, 1.1)"
            ]
          },
          "metadata": {},
          "execution_count": 14
        },
        {
          "output_type": "display_data",
          "data": {
            "text/plain": [
              "<Figure size 1000x1000 with 1 Axes>"
            ],
            "image/png": "[encoded data removed]"
          },
          "metadata": {}
        }
      ]
    },
    {
      "cell_type": "code",
      "source": [
        "y = df['y'] # extrai a primeira coluna, que é o label\n",
        "X = df.loc[:, 'x1':'x2']"
      ],
      "metadata": {
        "id": "2GdowvOA7vOU"
      },
      "execution_count": null,
      "outputs": []
    },
    {
      "cell_type": "markdown",
      "source": [
        "# 9) Separar os dados em treinamento e teste"
      ],
      "metadata": {
        "id": "I6y0KaouQv3P"
      }
    },
    {
      "cell_type": "code",
      "source": [
        "from sklearn.model_selection import train_test_split\n",
        "\n",
        "# Separar os dados em 70% treino e 30% teste\n",
        "X_train, X_test, y_train, y_test = train_test_split(X, y, test_size=0.3, random_state=42)"
      ],
      "metadata": {
        "id": "f6P6-IKTQv_F"
      },
      "execution_count": null,
      "outputs": []
    },
    {
      "cell_type": "markdown",
      "source": [
        "## 10) Inicializar o Perceptron com os parâmetros necessários"
      ],
      "metadata": {
        "id": "6xiRNhKjQwHc"
      }
    },
    {
      "cell_type": "code",
      "source": [
        "# Parâmetros do Perceptron\n",
        "teta = 0\n",
        "w = [0, 0]\n",
        "n = 0.1\n",
        "epochs = 10\n",
        "\n",
        "# Instanciar o Perceptron\n",
        "p_synthetic = Perceptron(teta=teta, w=w, n=n, epochs=epochs)"
      ],
      "metadata": {
        "id": "Dp9octO1QwPN"
      },
      "execution_count": null,
      "outputs": []
    },
    {
      "cell_type": "markdown",
      "source": [
        "\n",
        "## 11) Converter os conjuntos em list, ex: \"train_x = X_train.values.tolist()\""
      ],
      "metadata": {
        "id": "cN4tVnA_QwX3"
      }
    },
    {
      "cell_type": "code",
      "source": [
        "# Converter os dados de treino e teste para listas\n",
        "train_x = X_train.values.tolist()\n",
        "train_y = y_train.values.tolist()\n",
        "\n",
        "test_x = X_test.values.tolist()\n",
        "test_y = y_test.values.tolist()"
      ],
      "metadata": {
        "id": "CC8REdEHQwdz"
      },
      "execution_count": null,
      "outputs": []
    },
    {
      "cell_type": "markdown",
      "source": [
        "## 12) Treinar o perceptron"
      ],
      "metadata": {
        "id": "ex3hVP28Qwnd"
      }
    },
    {
      "cell_type": "code",
      "source": [
        "# Treinar o perceptron com os dados de treino\n",
        "p_synthetic.train_perceptron(train_x, train_y)"
      ],
      "metadata": {
        "id": "F0Cvmqf8Qwsd"
      },
      "execution_count": null,
      "outputs": []
    },
    {
      "cell_type": "markdown",
      "source": [
        "## 13) Fazer o predict do Perceptron usando a matriz x"
      ],
      "metadata": {
        "id": "JFiFgWjZR_7E"
      }
    },
    {
      "cell_type": "code",
      "source": [
        "from sklearn import metrics\n",
        "# Fazer a predição no conjunto de teste\n",
        "y_pred = p_synthetic.predict_perceptron(test_x)"
      ],
      "metadata": {
        "id": "ndcDpOwjSABE"
      },
      "execution_count": null,
      "outputs": []
    },
    {
      "cell_type": "markdown",
      "source": [
        "\n",
        "## 14) Calcular a acurácia com a função: \"accuracy_score\" e printar o resultado"
      ],
      "metadata": {
        "id": "k479GqdzSAH9"
      }
    },
    {
      "cell_type": "code",
      "source": [
        "from sklearn.metrics import accuracy_score\n",
        "\n",
        "# Calcular a acurácia\n",
        "acc = accuracy_score(test_y, y_pred)\n",
        "\n",
        "# Mostrar o resultado\n",
        "print(f\"Acurácia do Perceptron no conjunto de teste: {acc:.2f}\")"
      ],
      "metadata": {
        "colab": {
          "base_uri": "https://localhost:8080/"
        },
        "id": "AvsBk1_RSAMT",
        "outputId": "cbe76a9c-9f96-43a3-c733-9cf95fbf2de5"
      },
      "execution_count": null,
      "outputs": [
        {
          "output_type": "stream",
          "name": "stdout",
          "text": [
            "Acurácia do Perceptron no conjunto de teste: 0.99\n"
          ]
        }
      ]
    }
  ]
}